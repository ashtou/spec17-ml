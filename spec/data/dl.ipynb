{
 "cells": [
  {
   "cell_type": "markdown",
   "source": [
    "# Obtaining Data\n",
    "\n",
    "Here is a simple way to download the published results of the SPEC CPU2017 benchmarks:\n",
    "\n",
    "- First download the URLs using the JavaScript code below (commented out) from <https://www.spec.org/cpu2017/results/cpu2017.html> and copy the content of the console into a text file\n",
    "- Then use the Python script below to download the files from the specified list of URLs in the text file\n"
   ],
   "metadata": {}
  },
  {
   "cell_type": "code",
   "execution_count": 34,
   "source": [
    "\"\"\"\n",
    "// Save the results in the corresponding text files and remove the '[' and ']' chars.\n",
    "all_hrefs = []\n",
    "all_csvs = document.getElementById(\"CINT2017_speeddiv\").querySelectorAll('table > tbody> tr > td > span > a[href*=\"csv\"]');console.log(all_csvs.length)\n",
    "for(var i=0; i<all_csvs.length;i++) {all_hrefs[i] = all_csvs[i].href}\n",
    "console.log(JSON.stringify(all_hrefs))\n",
    "\"\"\"\n",
    "\n",
    "# NOTE: make sure you have removed [ and ] from the txt file\n",
    "### Python to download all the files from a list in a txt file\n",
    "%reset -s -f\n",
    "import os, time\n",
    "import urllib.request\n",
    "\n",
    "#category = 'choose!!'\n",
    "#category = 'FP_rate'\n",
    "#category = 'FP_speed'\n",
    "#category = 'Int_rate'\n",
    "category = 'Int_speed'\n",
    "\n",
    "text_file = open(category + \".txt\", \"r\")\n",
    "lines = text_file.read().replace('\"', '').split(',')\n",
    "print(len(lines))\n",
    "\n",
    "# Download the file from `url` and save it locally under `dl_file`:\n",
    "for i in range (0, len(lines)):\n",
    "    dl_file = category+\"_CSVs/\" + lines[i].rsplit('/', 1)[1]\n",
    "    if not os.path.isfile(dl_file):\n",
    "        urllib.request.urlretrieve(lines[i], dl_file)\n",
    "        time.sleep(0.02)\n",
    "print(\"done\")"
   ],
   "outputs": [
    {
     "output_type": "stream",
     "name": "stdout",
     "text": [
      "4333\n",
      "done\n"
     ]
    }
   ],
   "metadata": {
    "tags": []
   }
  }
 ],
 "metadata": {
  "language_info": {
   "codemirror_mode": {
    "name": "ipython",
    "version": 3
   },
   "file_extension": ".py",
   "mimetype": "text/x-python",
   "name": "python",
   "nbconvert_exporter": "python",
   "pygments_lexer": "ipython3",
   "version": "3.8.0-final"
  },
  "orig_nbformat": 2,
  "kernelspec": {
   "name": "python37564bitvenvvenv22e01f44c3f74594a391b1e391fe2f81",
   "display_name": "Python 3.7.5 64-bit ('venv': venv)"
  }
 },
 "nbformat": 4,
 "nbformat_minor": 2
}